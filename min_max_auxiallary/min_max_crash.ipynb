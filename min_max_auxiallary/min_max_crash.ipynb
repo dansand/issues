{
 "cells": [
  {
   "cell_type": "code",
   "execution_count": 10,
   "metadata": {
    "collapsed": true
   },
   "outputs": [],
   "source": [
    "import underworld as uw\n",
    "import glucifer\n",
    "import numpy as np\n",
    "from underworld import function as fn\n"
   ]
  },
  {
   "cell_type": "code",
   "execution_count": 11,
   "metadata": {
    "collapsed": true
   },
   "outputs": [],
   "source": [
    "# 1st a mesh is required to define a numerical domain\n",
    "mesh = uw.mesh.FeMesh_Cartesian( elementRes  = (24, 24), \n",
    "                                 minCoord    = (0., 0.), \n",
    "                                 maxCoord    = (1., 1.))\n"
   ]
  },
  {
   "cell_type": "code",
   "execution_count": 12,
   "metadata": {
    "collapsed": false
   },
   "outputs": [],
   "source": [
    "xFn = fn.input()[0]\n",
    "yFn = fn.input()[1]"
   ]
  },
  {
   "cell_type": "code",
   "execution_count": 19,
   "metadata": {
    "collapsed": true
   },
   "outputs": [],
   "source": [
    "# initialise a swarm\n",
    "swarm = uw.swarm.Swarm( mesh=mesh )\n",
    "\n",
    "\n"
   ]
  },
  {
   "cell_type": "code",
   "execution_count": 29,
   "metadata": {
    "collapsed": false
   },
   "outputs": [],
   "source": [
    "tWalls = mesh.specialSets[\"MaxJ_VertexSet\"]\n",
    "\n",
    "swarmCoords = mesh.data[tWalls.data]\n",
    "swarm.add_particles_with_coordinates(swarmCoords)\n",
    "#exploring a workaround\n",
    "\n",
    "\n",
    "if not tWalls.data.shape[0]:\n",
    "    dumCoord = np.column_stack((mesh.data[:,0].mean(), mesh.data[:,1].mean()))\n",
    "    swarm.add_particles_with_coordinates(np.array(dumCoord))\n"
   ]
  },
  {
   "cell_type": "code",
   "execution_count": 27,
   "metadata": {
    "collapsed": false
   },
   "outputs": [],
   "source": [
    "_minMax = fn.view.min_max(xFn , fn_auxiliary=yFn)\n",
    "_minMax.reset()\n",
    "_minMax.evaluate(swarm);\n"
   ]
  },
  {
   "cell_type": "code",
   "execution_count": 28,
   "metadata": {
    "collapsed": false
   },
   "outputs": [
    {
     "name": "stdout",
     "output_type": "stream",
     "text": [
      "0.0\n",
      "[[ 1.]]\n"
     ]
    }
   ],
   "source": [
    "print(_minMax.min_global())\n",
    "print(_minMax.min_global_auxiliary())"
   ]
  },
  {
   "cell_type": "code",
   "execution_count": null,
   "metadata": {
    "collapsed": true
   },
   "outputs": [],
   "source": []
  }
 ],
 "metadata": {
  "kernelspec": {
   "display_name": "Python 2",
   "language": "python",
   "name": "python2"
  },
  "language_info": {
   "codemirror_mode": {
    "name": "ipython",
    "version": 2
   },
   "file_extension": ".py",
   "mimetype": "text/x-python",
   "name": "python",
   "nbconvert_exporter": "python",
   "pygments_lexer": "ipython2",
   "version": "2.7.9"
  }
 },
 "nbformat": 4,
 "nbformat_minor": 2
}
