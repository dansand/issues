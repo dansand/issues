{
 "cells": [
  {
   "cell_type": "code",
   "execution_count": 22,
   "metadata": {
    "collapsed": true,
    "deletable": true,
    "editable": true
   },
   "outputs": [],
   "source": [
    "import numpy as np\n",
    "import underworld as uw\n",
    "import math\n",
    "from underworld import function as fn\n",
    "import glucifer\n",
    "import os\n",
    "import sys\n",
    "from easydict import EasyDict as edict\n",
    "import operator\n",
    "import pickle\n"
   ]
  },
  {
   "cell_type": "markdown",
   "metadata": {
    "deletable": true,
    "editable": true
   },
   "source": [
    "## Setup out Dirs"
   ]
  },
  {
   "cell_type": "code",
   "execution_count": 23,
   "metadata": {
    "collapsed": true,
    "deletable": true,
    "editable": true
   },
   "outputs": [],
   "source": [
    "############\n",
    "#Model letter and number\n",
    "############\n",
    "\n",
    "\n",
    "#Model letter identifier default\n",
    "Model = \"T\"\n",
    "\n",
    "#Model number identifier default:\n",
    "ModNum = 1\n",
    "\n",
    "#Any isolated letter / integer command line args are interpreted as Model/ModelNum\n",
    "\n",
    "if len(sys.argv) == 1:\n",
    "    ModNum = ModNum \n",
    "elif sys.argv[1] == '-f': #\n",
    "    ModNum = ModNum \n",
    "else:\n",
    "    for farg in sys.argv[1:]:\n",
    "        if not '=' in farg: #then Assume it's a not a paramter argument\n",
    "            try:\n",
    "                ModNum = int(farg) #try to convert everingthing to a float, else remains string\n",
    "            except ValueError:\n",
    "                Model  = farg"
   ]
  },
  {
   "cell_type": "code",
   "execution_count": 24,
   "metadata": {
    "collapsed": true,
    "deletable": true,
    "editable": true
   },
   "outputs": [],
   "source": [
    "###########\n",
    "#Standard output directory setup\n",
    "###########\n",
    "\n",
    "outputPath = \"results\" + \"/\" +  str(Model) + \"/\" + str(ModNum) + \"/\" \n",
    "imagePath = outputPath + 'images/'\n",
    "filePath = outputPath + 'files/'\n",
    "#checkpointPath = outputPath + 'checkpoint/'\n",
    "dbPath = outputPath + 'gldbs/'\n",
    "xdmfPath = outputPath + 'xdmf/'\n",
    "outputFile = 'results_model' + Model + '_' + str(ModNum) + '.dat'\n",
    "\n",
    "if uw.rank()==0:\n",
    "    # make directories if they don't exist\n",
    "    if not os.path.isdir(outputPath):\n",
    "        os.makedirs(outputPath)\n",
    "    if not os.path.isdir(imagePath):\n",
    "        os.makedirs(imagePath)\n",
    "    if not os.path.isdir(dbPath):\n",
    "        os.makedirs(dbPath)\n",
    "    if not os.path.isdir(filePath):\n",
    "        os.makedirs(filePath)\n",
    "    if not os.path.isdir(xdmfPath):\n",
    "        os.makedirs(xdmfPath)\n",
    "        \n",
    "uw.barrier() #Barrier here so no procs run the check in the next cell too early"
   ]
  },
  {
   "cell_type": "markdown",
   "metadata": {
    "deletable": true,
    "editable": true
   },
   "source": [
    "## Params"
   ]
  },
  {
   "cell_type": "code",
   "execution_count": 25,
   "metadata": {
    "collapsed": false,
    "deletable": true,
    "editable": true
   },
   "outputs": [],
   "source": [
    "dp = edict({})\n",
    "#Main physical paramters\n",
    "dp.depth=300e3                         #Depth\n",
    "dp.refDensity=3300.                        #reference density\n",
    "dp.refGravity=9.8                          #surface gravity\n",
    "dp.viscosityScale=1e20                       #reference upper mantle visc., \n",
    "dp.refDiffusivity=1e-6                     #thermal diffusivity\n",
    "dp.refExpansivity=3e-5                     #surface thermal expansivity\n",
    "dp.gasConstant=8.314                    #gas constant\n",
    "dp.specificHeat=1250.                   #Specific heat (Jkg-1K-1)\n",
    "dp.potentialTemp=1573.                  #mantle potential temp (K)\n",
    "dp.surfaceTemp=273.                     #surface temp (K)\n",
    "#Rheology - flow law paramters\n",
    "dp.cohesionMantle=20e6                   #mantle cohesion in Byerlee law\n",
    "dp.cohesionInterface=2e6                    #crust cohesion in Byerlee law\n",
    "dp.frictionMantle=0.2                   #mantle friction coefficient in Byerlee law (tan(phi))\n",
    "dp.frictionInterface=0.02                   #crust friction coefficient \n",
    "dp.diffusionPreExp=5.34e-10             #1./1.87e9, pre-exp factor for diffusion creep\n",
    "dp.diffusionEnergy=3e5 \n",
    "dp.diffusionVolume=5e-6\n",
    "\n",
    "#\n",
    "dp.interfacePreExp=2e2*5.34e-10            \n",
    "dp.interfaceEnergy=0.4*3e5\n",
    "dp.interfaceVolume=5.*5e-6\n",
    "\n",
    "#power law creep params\n",
    "dp.powerLawStrain = 1e-15\n",
    "dp.powerLawExp = 3.5\n",
    "\n",
    "\n",
    "#Rheology - cutoff values\n",
    "dp.viscosityMin=1e18\n",
    "dp.viscosityMax=1e25                #viscosity max in the mantle material\n",
    "dp.viscosityMinInterface=1e20               #viscosity min in the weak-crust material\n",
    "dp.viscosityMaxInterface=1e20               #viscosity max in the weak-crust material\n",
    "dp.yieldStressMax=300*1e6              #\n",
    "\n",
    "#Intrinsic Lengths\n",
    "dp.faultThickness = 10*1e3              #interface material (crust) an top of slabs\n",
    "dp.leftSide=-1.*(150e3)               #\n",
    "dp.rightSide=(150e3)\n",
    "dp.theta=45.                             #Angle of slab\n",
    "dp.radiusOfCurv = 250e3                          #radius of curvature\n",
    "dp.slabAge=70e6                     #age of subduction plate at trench\n",
    "dp.opAge=35e6                       #age of op\n",
    "dp.subZoneLoc=dp.leftSide                    #X position of subduction zone...km\n",
    "dp.subVelocity = 4*(1/100.)*(1./(3600*24*365)) #m/s\n",
    "\n",
    "\n",
    "#derived params\n",
    "dp.deltaTemp = dp.potentialTemp-dp.surfaceTemp\n",
    "dp.tempGradMantle = (dp.refExpansivity*dp.refGravity*(dp.potentialTemp))/dp.specificHeat\n",
    "dp.tempGradSlab = (dp.refExpansivity*dp.refGravity*(dp.surfaceTemp + 400.))/dp.specificHeat\n",
    "\n",
    "\n",
    "\n",
    "#Modelling and Physics switches\n",
    "\n",
    "md = edict({})\n",
    "md.refineMeshStatic=True\n",
    "md.stickyAir=False\n",
    "md.aspectRatio=1.\n",
    "md.res=72\n",
    "md.ppc=35                                 #particles per cell\n",
    "#md.elementType=\"Q1/dQ0\"\n",
    "md.elementType=\"Q2/DPC1\"\n",
    "md.courantFac=0.5                         #extra limitation on timestepping\n",
    "md.nltol = 0.001\n",
    "md.maxSteps = 2000\n",
    "md.druckerAlpha = 0.\n",
    "md.druckerAlphaFault = 0.\n",
    "md.penaltyMethod = True\n",
    "md.spuniform = False\n",
    "md.dissipativeHeating = True\n",
    "md.powerLaw = False\n",
    "md.interfaceDiffusivityFac = 1.\n",
    "\n"
   ]
  },
  {
   "cell_type": "code",
   "execution_count": 26,
   "metadata": {
    "collapsed": true,
    "deletable": true,
    "editable": true
   },
   "outputs": [],
   "source": [
    "sf = edict({})\n",
    "\n",
    "sf.lengthScale=300e3\n",
    "sf.viscosityScale = dp.viscosityScale\n",
    "sf.stress = (dp.refDiffusivity*sf.viscosityScale)/sf.lengthScale**2\n",
    "sf.lithGrad = dp.refDensity*dp.refGravity*(sf.lengthScale)**3/(sf.viscosityScale*dp.refDiffusivity) \n",
    "sf.lithGrad = (sf.viscosityScale*dp.refDiffusivity) /(dp.refDensity*dp.refGravity*(sf.lengthScale)**3)\n",
    "sf.velocity = dp.refDiffusivity/sf.lengthScale\n",
    "sf.strainRate = dp.refDiffusivity/(sf.lengthScale**2)\n",
    "sf.time = 1./sf.strainRate\n",
    "sf.actVolume = (dp.gasConstant*dp.deltaTemp)/(dp.refDensity*dp.refGravity*sf.lengthScale)\n",
    "sf.actEnergy = (dp.gasConstant*dp.deltaTemp)\n",
    "sf.diffusionPreExp = 1./sf.viscosityScale\n",
    "sf.deltaTemp  = dp.deltaTemp\n",
    "sf.pressureDepthGrad = (dp.refDensity*dp.refGravity*sf.lengthScale**3)/(dp.viscosityScale*dp.refDiffusivity)\n",
    "\n",
    "\n",
    "#sf.dislocationPreExp = ((dp.refViscosity**(-1.*dp.dislocationExponent))*(dp.refDiffusivity**(1. - dp.dislocationExponent))*(sf.lengthScale**(-2.+ (2.*dp.dislocationExponent)))),\n",
    "#sf.peierlsPreExp = 1./2.6845783276046923e+40 #same form as Ads, but ndp.np =20. (hardcoded because numbers are too big)\n",
    "\n",
    "\n",
    "#dimesionless params\n",
    "ndp  = edict({})\n",
    "\n",
    "ndp.rayleigh = (dp.refExpansivity*dp.refDensity*dp.refGravity*dp.deltaTemp*sf.lengthScale**3)/(dp.viscosityScale*dp.refDiffusivity)\n",
    "ndp.dissipation = (dp.refExpansivity*sf.lengthScale*dp.refGravity)/dp.specificHeat\n",
    "\n",
    "\n",
    "#Take care with these definitions, \n",
    "ndp.surfaceTemp = dp.surfaceTemp/sf.deltaTemp  #Ts\n",
    "ndp.potentialTemp = dp.potentialTemp/sf.deltaTemp - ndp.surfaceTemp #Tp' = Tp - TS\n",
    "\n",
    "ndp.tempGradMantle = dp.tempGradMantle/(sf.deltaTemp/sf.lengthScale)\n",
    "ndp.tempGradSlab = dp.tempGradSlab/(sf.deltaTemp/sf.lengthScale)\n",
    "\n",
    "#lengths / distances\n",
    "ndp.depth = dp.depth/sf.lengthScale\n",
    "ndp.leftSide = dp.leftSide/sf.lengthScale             #\n",
    "ndp.rightSide = dp.rightSide/sf.lengthScale\n",
    "ndp.faultThickness = dp.faultThickness/sf.lengthScale\n",
    "\n",
    "\n",
    "\n",
    "#times - for convenience the dimensional values are in years, conversion to seconds happens here\n",
    "ndp.slabAge =  dp.slabAge*(3600*24*365)/sf.time\n",
    "ndp.opAge = dp.opAge*(3600*24*365)/sf.time\n",
    "\n",
    "\n",
    "#Rheology - flow law paramters\n",
    "ndp.cohesionMantle=dp.cohesionMantle/sf.stress                  #mantle cohesion in Byerlee law\n",
    "ndp.cohesionInterface=dp.cohesionInterface/sf.stress                  #crust cohesion in Byerlee law\n",
    "ndp.frictionMantle=dp.frictionMantle/sf.lithGrad                  #mantle friction coefficient in Byerlee law (tan(phi))\n",
    "ndp.frictionInterface=dp.frictionInterface/sf.lithGrad                  #crust friction coefficient \n",
    "ndp.diffusionPreExp=dp.diffusionPreExp/sf.diffusionPreExp                #pre-exp factor for diffusion creep\n",
    "ndp.diffusionEnergy=dp.diffusionEnergy/sf.actEnergy\n",
    "ndp.diffusionVolume=dp.diffusionVolume/sf.actVolume\n",
    "#\n",
    "ndp.interfacePreExp = dp.interfacePreExp/sf.diffusionPreExp           \n",
    "ndp.interfaceEnergy = dp.interfaceEnergy/sf.actEnergy\n",
    "ndp.interfaceVolume = dp.interfaceVolume/sf.actVolume\n",
    "\n",
    "#\n",
    "ndp.powerLawStrain = dp.powerLawStrain/sf.strainRate\n",
    "ndp.powerLawExp = dp.powerLawExp\n",
    "\n",
    "ndp.yieldStressMax=dp.yieldStressMax/sf.stress \n",
    "\n",
    "\n",
    "#Rheology - cutoff values\n",
    "ndp.viscosityMin= dp.viscosityMin /sf.viscosityScale\n",
    "ndp.viscosityMax=dp.viscosityMax/sf.viscosityScale\n",
    "ndp.viscosityMinInterface= dp.viscosityMinInterface /sf.viscosityScale\n",
    "ndp.viscosityMaxInterface = dp.viscosityMaxInterface/sf.viscosityScale\n",
    "\n",
    "\n",
    "\n",
    "\n",
    "#Slab and plate init. parameters\n",
    "ndp.subZoneLoc = dp.subZoneLoc/sf.lengthScale\n",
    "ndp.radiusOfCurv = dp.radiusOfCurv/sf.lengthScale\n",
    "ndp.theta=dp.theta #Angle of slab\n",
    "ndp.subVelocity = dp.subVelocity/sf.velocity\n",
    "\n"
   ]
  },
  {
   "cell_type": "code",
   "execution_count": null,
   "metadata": {
    "collapsed": false,
    "deletable": true,
    "editable": true
   },
   "outputs": [],
   "source": []
  },
  {
   "cell_type": "markdown",
   "metadata": {
    "deletable": true,
    "editable": true
   },
   "source": [
    "## Make mesh / FeVariables"
   ]
  },
  {
   "cell_type": "code",
   "execution_count": 27,
   "metadata": {
    "collapsed": false,
    "deletable": true,
    "editable": true
   },
   "outputs": [],
   "source": [
    "#1. - ndp.depth"
   ]
  },
  {
   "cell_type": "code",
   "execution_count": 28,
   "metadata": {
    "collapsed": false,
    "deletable": true,
    "editable": true
   },
   "outputs": [],
   "source": [
    "#Domain and Mesh paramters\n",
    "yres = int(md.res)\n",
    "xres = int(md.res*md.aspectRatio) \n",
    "\n",
    "\n",
    "\n",
    "mesh = uw.mesh.FeMesh_Cartesian( elementType = (md.elementType),\n",
    "                                 elementRes  = (xres, yres), \n",
    "                                 minCoord    = (ndp.leftSide, 1. - ndp.depth), \n",
    "                                 maxCoord    = (ndp.rightSide, 1.)) \n",
    "\n",
    "velocityField   = uw.mesh.MeshVariable( mesh=mesh,         nodeDofCount=2 )\n",
    "pressureField   = uw.mesh.MeshVariable( mesh=mesh.subMesh, nodeDofCount=1 )\n",
    "temperatureField    = uw.mesh.MeshVariable( mesh=mesh,         nodeDofCount=1 )\n",
    "initialtemperatureField    = uw.mesh.MeshVariable( mesh=mesh,         nodeDofCount=1 )\n",
    "\n",
    "stressField   = uw.mesh.MeshVariable( mesh=mesh,         nodeDofCount=3 )\n",
    "\n",
    "\n",
    "temperatureDotField = uw.mesh.MeshVariable( mesh=mesh,         nodeDofCount=1 ) #create this only if Adv-diff\n",
    "diffusivityFn = fn.misc.constant(1.)\n",
    "    \n"
   ]
  },
  {
   "cell_type": "code",
   "execution_count": 29,
   "metadata": {
    "collapsed": true,
    "deletable": true,
    "editable": true
   },
   "outputs": [],
   "source": [
    "velocityField.data[:] = 0.\n",
    "pressureField.data[:] = 0.\n",
    "temperatureField.data[:] = 0.\n",
    "initialtemperatureField.data[:] = 0."
   ]
  },
  {
   "cell_type": "code",
   "execution_count": 30,
   "metadata": {
    "collapsed": true,
    "deletable": true,
    "editable": true
   },
   "outputs": [],
   "source": [
    "#Uw geometry shortcuts\n",
    "\n",
    "coordinate = fn.input()\n",
    "depthFn = mesh.maxCoord[1] - coordinate[1] #a function providing the depth\n",
    "\n",
    "\n",
    "xFn = coordinate[0]  #a function providing the x-coordinate\n",
    "yFn = coordinate[1]\n"
   ]
  },
  {
   "cell_type": "markdown",
   "metadata": {
    "deletable": true,
    "editable": true
   },
   "source": [
    "## Temp. Field"
   ]
  },
  {
   "cell_type": "code",
   "execution_count": 31,
   "metadata": {
    "collapsed": true,
    "deletable": true,
    "editable": true
   },
   "outputs": [],
   "source": [
    "temperatureField.data[:] = 1"
   ]
  },
  {
   "cell_type": "markdown",
   "metadata": {
    "deletable": true,
    "editable": true
   },
   "source": [
    "## Boundary Conditions"
   ]
  },
  {
   "cell_type": "code",
   "execution_count": 32,
   "metadata": {
    "collapsed": true,
    "deletable": true,
    "editable": true
   },
   "outputs": [],
   "source": [
    "iWalls = mesh.specialSets[\"MinI_VertexSet\"] + mesh.specialSets[\"MaxI_VertexSet\"]\n",
    "jWalls = mesh.specialSets[\"MinJ_VertexSet\"] + mesh.specialSets[\"MaxJ_VertexSet\"]\n",
    "tWalls = mesh.specialSets[\"MaxJ_VertexSet\"]\n",
    "bWalls =mesh.specialSets[\"MinJ_VertexSet\"]\n",
    "lWalls = mesh.specialSets[\"MinI_VertexSet\"]\n",
    "rWalls = mesh.specialSets[\"MaxI_VertexSet\"]\n",
    "      \n",
    "        \n"
   ]
  },
  {
   "cell_type": "code",
   "execution_count": 33,
   "metadata": {
    "collapsed": true,
    "deletable": true,
    "editable": true
   },
   "outputs": [],
   "source": [
    "#Now we need to set the velocity in the Slab "
   ]
  },
  {
   "cell_type": "code",
   "execution_count": 34,
   "metadata": {
    "collapsed": true,
    "deletable": true,
    "editable": true
   },
   "outputs": [],
   "source": [
    "#build a circle to tag some nodes for a velocity condition\n",
    "\n",
    "def circleFn(centre, radius):\n",
    "    _circFn = (((coordinate[0] - centre[0])**2) + ((coordinate[1] - centre[1])**2)) < radius**2\n",
    "    return _circFn\n",
    "\n",
    "circ1 = circleFn((-0.25, 0.8), 0.05)\n",
    "nodes = circ1.evaluate(mesh).nonzero()[0]"
   ]
  },
  {
   "cell_type": "code",
   "execution_count": 35,
   "metadata": {
    "collapsed": true,
    "deletable": true,
    "editable": true
   },
   "outputs": [],
   "source": [
    "#get the mesh nodes that are in the circle, \n",
    "#set a finite velocity, \n",
    "#and create and index set to hand to the boundary condtion\n",
    "\n",
    "nodes = circ1.evaluate(mesh).nonzero()[0]\n",
    "\n",
    "velocityField.data[nodes]= [1.0,0.]\n",
    "\n",
    "drivenVel = mesh.specialSets[\"Empty\"]\n",
    "\n",
    "#if uw.rank() == 0:\n",
    "drivenVel.add(nodes)  \n",
    "\n",
    "#remove any overlapping wall nodes (although these shouldn't overlap in the current example )\n",
    "drivenVel = drivenVel - lWalls - bWalls - rWalls"
   ]
  },
  {
   "cell_type": "code",
   "execution_count": 36,
   "metadata": {
    "collapsed": false,
    "deletable": true,
    "editable": true
   },
   "outputs": [],
   "source": [
    "#All the bCs\n",
    "\n",
    "stressField.data[...] = (0.0,0.0,0.0)\n",
    "\n",
    "\n",
    "velDbc = uw.conditions.DirichletCondition( variable      = velocityField, \n",
    "                                               indexSetsPerDof = ( iWalls + drivenVel, jWalls + drivenVel) )\n",
    "\n",
    "\n"
   ]
  },
  {
   "cell_type": "code",
   "execution_count": 37,
   "metadata": {
    "collapsed": true,
    "deletable": true,
    "editable": true
   },
   "outputs": [],
   "source": [
    "viscosityMapFn = fn.misc.constant(1.)"
   ]
  },
  {
   "cell_type": "code",
   "execution_count": 38,
   "metadata": {
    "collapsed": true,
    "deletable": true,
    "editable": true
   },
   "outputs": [],
   "source": [
    "uw.barrier()"
   ]
  },
  {
   "cell_type": "markdown",
   "metadata": {
    "deletable": true,
    "editable": true
   },
   "source": [
    "## Stokes"
   ]
  },
  {
   "cell_type": "code",
   "execution_count": 39,
   "metadata": {
    "collapsed": false,
    "deletable": true,
    "editable": true
   },
   "outputs": [],
   "source": [
    "stokesPIC = uw.systems.Stokes( velocityField  = velocityField, \n",
    "                                   pressureField  = pressureField,\n",
    "                                   conditions     = [velDbc,],\n",
    "                                   fn_viscosity   = viscosityMapFn, \n",
    "                                   fn_bodyforce   = (0., 0.) )"
   ]
  },
  {
   "cell_type": "code",
   "execution_count": 40,
   "metadata": {
    "collapsed": false,
    "deletable": true,
    "editable": true
   },
   "outputs": [],
   "source": [
    "solver = uw.systems.Solver(stokesPIC)\n"
   ]
  },
  {
   "cell_type": "markdown",
   "metadata": {
    "deletable": true,
    "editable": true
   },
   "source": [
    "## problem\n",
    "\n",
    "currently, setting the `solver.options.main.Q22_pc_type` to anything other than 'uw' (the default), results in a petsc crash in parallel. \n"
   ]
  },
  {
   "cell_type": "code",
   "execution_count": 41,
   "metadata": {
    "collapsed": true,
    "deletable": true,
    "editable": true
   },
   "outputs": [],
   "source": [
    "\n",
    "\n",
    "#solver.options.main.Q22_pc_type='gkgdiag' #should crash in parallel\n",
    "solver.options.main.Q22_pc_type='uw' #should work in parallel\n",
    "\n",
    "#solver.set_penalty(1e7)"
   ]
  },
  {
   "cell_type": "code",
   "execution_count": 42,
   "metadata": {
    "collapsed": true
   },
   "outputs": [],
   "source": [
    "\n",
    "solver.solve()"
   ]
  },
  {
   "cell_type": "code",
   "execution_count": 167,
   "metadata": {
    "collapsed": false,
    "deletable": true,
    "editable": true
   },
   "outputs": [
    {
     "name": "stdout",
     "output_type": "stream",
     "text": [
      "First solve\n"
     ]
    }
   ],
   "source": [
    "print(\"First solve\")"
   ]
  }
 ],
 "metadata": {
  "kernelspec": {
   "display_name": "Python 2",
   "language": "python",
   "name": "python2"
  },
  "language_info": {
   "codemirror_mode": {
    "name": "ipython",
    "version": 2
   },
   "file_extension": ".py",
   "mimetype": "text/x-python",
   "name": "python",
   "nbconvert_exporter": "python",
   "pygments_lexer": "ipython2",
   "version": "2.7.9"
  }
 },
 "nbformat": 4,
 "nbformat_minor": 2
}
