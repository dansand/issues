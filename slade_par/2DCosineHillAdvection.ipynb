{
 "cells": [
  {
   "cell_type": "markdown",
   "metadata": {},
   "source": [
    "## Rotation of a blob of heat\n",
    "\n",
    "### How much heat is lost after a single rotation\n",
    "\n",
    "Solving advection diffusion equation in a velocity field of unit angular velocity\n",
    "\n",
    "Domain [-0.5,0.5]x[-0.5,0.5]\n",
    "\n",
    "#### Temperature conditions\n",
    "\n",
    "T(x,0) = 0.25 * (1+cos(pi*X)) * (1+cos(pi*Y)) if x^2+y^2 <= 1\n",
    "         else 0\n",
    "         \n",
    "[X, Y] = [(x-x_0)/sigma , (x-x_1)/sigma]\n",
    "\n",
    "T = 0 on all boundaries\n",
    "\n",
    "#### Velocity conditions\n",
    "\n",
    "V(x) = (-x_1, x_0)\n"
   ]
  },
  {
   "cell_type": "code",
   "execution_count": 42,
   "metadata": {},
   "outputs": [],
   "source": [
    "sigma = 0.2\n",
    "x_0 = (1./6, 1./6)\n",
    "diffusion = 1e-6\n",
    "\n",
    "method_setup = 'slcn'\n",
    "# method_setup = 'supg'"
   ]
  },
  {
   "cell_type": "code",
   "execution_count": 43,
   "metadata": {
    "scrolled": true
   },
   "outputs": [],
   "source": [
    "import underworld as uw\n",
    "import underworld.function as fn\n",
    "import glucifer\n",
    "import numpy as np"
   ]
  },
  {
   "cell_type": "code",
   "execution_count": 44,
   "metadata": {},
   "outputs": [],
   "source": [
    "mesh = uw.mesh.FeMesh_Cartesian(elementType='Q1', \n",
    "                                elementRes=(30,30),\n",
    "                                minCoord  = (-0.5,-0.5),\n",
    "                                maxCoord  = (0.5,0.5) )\n",
    "\n",
    "tField = mesh.add_variable(1)\n",
    "tStarField = mesh.add_variable(1)\n",
    "vField = mesh.add_variable(2)\n",
    " \n",
    "all_walls = mesh.specialSets[\"AllWalls_VertexSet\"]"
   ]
  },
  {
   "cell_type": "code",
   "execution_count": 45,
   "metadata": {},
   "outputs": [
    {
     "name": "stdout",
     "output_type": "stream",
     "text": [
      "(0.5, -0.5)\n"
     ]
    }
   ],
   "source": [
    "print(mesh.data[:,0].max(), mesh.data[:,0].min())"
   ]
  },
  {
   "cell_type": "code",
   "execution_count": 46,
   "metadata": {},
   "outputs": [],
   "source": [
    "meshRefineFactor = 0.7\n",
    "with mesh.deform_mesh():\n",
    "    normXs = 2.*mesh.data[:,0]/(mesh.maxCoord[0] - mesh.minCoord[0])\n",
    "    mesh.data[:,0] = mesh.data[:,0] * np.exp(meshRefineFactor*normXs**2) / np.exp(meshRefineFactor*1.0**2)  "
   ]
  },
  {
   "cell_type": "code",
   "execution_count": 47,
   "metadata": {},
   "outputs": [
    {
     "name": "stdout",
     "output_type": "stream",
     "text": [
      "(0.5, -0.5)\n"
     ]
    }
   ],
   "source": [
    "print(mesh.data[:,0].max(), mesh.data[:,0].min())"
   ]
  },
  {
   "cell_type": "code",
   "execution_count": 48,
   "metadata": {},
   "outputs": [
    {
     "data": {
      "text/html": [
       "<img src='data:image/png;base64,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'>"
      ],
      "text/plain": [
       "<IPython.core.display.HTML object>"
      ]
     },
     "metadata": {},
     "output_type": "display_data"
    }
   ],
   "source": [
    "fig = glucifer.Figure()\n",
    "fig.VectorArrows(mesh,vField)\n",
    "fig.Surface(mesh,tField, valueRange=[0.,1.]);\n",
    "fig.Mesh(mesh)\n",
    "fig.show()"
   ]
  },
  {
   "cell_type": "code",
   "execution_count": 49,
   "metadata": {},
   "outputs": [],
   "source": [
    "# functions to define the cosine hill\n",
    "fn_X = (fn.input()[0]-x_0[0])/sigma\n",
    "fn_Y = (fn.input()[1]-x_0[1])/sigma\n",
    "\n",
    "fn_inside = ( fn.math.pow(fn_X,2.) + fn.math.pow(fn_Y,2.) ) < 1.\n",
    "\n",
    "fn_hill   = 0.25 * ( 1.+fn.math.cos(np.pi*fn_X) ) * ( 1.+fn.math.cos(np.pi*fn_Y) )\n",
    "\n",
    "# if inside condition fn_inside set with fn_hill, else set to 0\n",
    "fn_ic = fn.branching.conditional([(fn_inside, fn_hill ), \n",
    "                                  (True     , 0.)])"
   ]
  },
  {
   "cell_type": "code",
   "execution_count": 50,
   "metadata": {},
   "outputs": [],
   "source": [
    "# tField.data[:] = hill(mesh.data[:,0], mesh.data[:,1])\n",
    "tField.data[:] = fn_ic.evaluate(mesh)"
   ]
  },
  {
   "cell_type": "code",
   "execution_count": 51,
   "metadata": {},
   "outputs": [
    {
     "name": "stdout",
     "output_type": "stream",
     "text": [
      "0.0314159265359\n"
     ]
    }
   ],
   "source": [
    "x_vel = -1.*uw.function.coord()[1]\n",
    "y_vel = 1.*uw.function.coord()[0]\n",
    "\n",
    "vField.data[:,0]=x_vel.evaluate(mesh).reshape(-1)\n",
    "vField.data[:,1]=y_vel.evaluate(mesh).reshape(-1)\n",
    "\n",
    "fn_K = uw.function.misc.constant(diffusion)\n",
    "\n",
    "# timestep implementation - not the best\n",
    "dt = 2*np.pi/200 # as per benchmark\n",
    "\n",
    "print dt"
   ]
  },
  {
   "cell_type": "code",
   "execution_count": 52,
   "metadata": {
    "scrolled": false
   },
   "outputs": [],
   "source": [
    "#fig.show()"
   ]
  },
  {
   "cell_type": "code",
   "execution_count": 53,
   "metadata": {},
   "outputs": [
    {
     "name": "stdout",
     "output_type": "stream",
     "text": [
      "The max temperature 0.998 and the volume avg. temperture 0.040\n"
     ]
    }
   ],
   "source": [
    "measureT = fn.view.min_max(tField,fn_auxiliary=fn.input())\n",
    "measureT.evaluate(mesh);\n",
    "intT,vol = mesh.integrate(fn=(tField,1.))\n",
    "print(\"The max temperature {0:.3f} and the volume avg. temperture {1:0.3f}\".format(measureT.max_global(), intT/vol))"
   ]
  },
  {
   "cell_type": "code",
   "execution_count": 54,
   "metadata": {},
   "outputs": [],
   "source": [
    "dbc = uw.conditions.DirichletCondition(variable=tField,\n",
    "                                       indexSetsPerDof=all_walls)"
   ]
  },
  {
   "cell_type": "code",
   "execution_count": 55,
   "metadata": {},
   "outputs": [],
   "source": [
    "# define heat eq. system\n",
    "if method_setup == 'supg':\n",
    "    tDotField = mesh.add_variable( nodeDofCount=1, dataType='double') # extra variable needed with supg\n",
    "    system = uw.systems.AdvectionDiffusion( phiField       = tField,\n",
    "                                            phiDotField    = tDotField,\n",
    "                                            velocityField  = vField,\n",
    "                                            fn_diffusivity = fn_K,\n",
    "                                            conditions     = [dbc] )\n",
    "else:\n",
    "    system = uw.systems.SLCN_AdvectionDiffusion( phiField       = tField,\n",
    "                                                 velocityField  = vField, \n",
    "                                                 fn_diffusivity = fn_K,\n",
    "                                                 conditions     = [dbc])"
   ]
  },
  {
   "cell_type": "code",
   "execution_count": 56,
   "metadata": {},
   "outputs": [],
   "source": [
    "time = 0\n",
    "steps = 0\n",
    "\n",
    "while time<1.*np.pi:\n",
    "\n",
    "    system.integrate(dt)\n",
    "    \n",
    "    time  += dt\n",
    "    steps += 1"
   ]
  },
  {
   "cell_type": "code",
   "execution_count": 57,
   "metadata": {},
   "outputs": [
    {
     "data": {
      "text/html": [
       "<img src='data:image/png;base64,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'>"
      ],
      "text/plain": [
       "<IPython.core.display.HTML object>"
      ]
     },
     "metadata": {},
     "output_type": "display_data"
    }
   ],
   "source": [
    "fig.show()"
   ]
  },
  {
   "cell_type": "code",
   "execution_count": 58,
   "metadata": {},
   "outputs": [
    {
     "name": "stdout",
     "output_type": "stream",
     "text": [
      "The max temperature 0.937 and the volume avg. temperture 0.041\n"
     ]
    }
   ],
   "source": [
    "measureT = fn.view.min_max(tField,fn_auxiliary=fn.input())\n",
    "measureT.evaluate(mesh);\n",
    "intT,vol = mesh.integrate(fn=(tField,1.))\n",
    "print(\"The max temperature {0:.3f} and the volume avg. temperture {1:0.3f}\".format(measureT.max_global(), intT/vol))"
   ]
  },
  {
   "cell_type": "code",
   "execution_count": 59,
   "metadata": {},
   "outputs": [],
   "source": [
    "# 0.8511144231858909\n",
    "# 0.04007998678062034"
   ]
  },
  {
   "cell_type": "code",
   "execution_count": null,
   "metadata": {},
   "outputs": [],
   "source": []
  },
  {
   "cell_type": "code",
   "execution_count": null,
   "metadata": {},
   "outputs": [],
   "source": []
  }
 ],
 "metadata": {
  "kernelspec": {
   "display_name": "Python 2",
   "language": "python",
   "name": "python2"
  },
  "language_info": {
   "codemirror_mode": {
    "name": "ipython",
    "version": 2
   },
   "file_extension": ".py",
   "mimetype": "text/x-python",
   "name": "python",
   "nbconvert_exporter": "python",
   "pygments_lexer": "ipython2",
   "version": "2.7.13"
  }
 },
 "nbformat": 4,
 "nbformat_minor": 2
}
