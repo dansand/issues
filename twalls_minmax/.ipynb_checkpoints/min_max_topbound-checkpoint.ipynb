{
 "cells": [
  {
   "cell_type": "code",
   "execution_count": 18,
   "metadata": {
    "collapsed": true,
    "deletable": true,
    "editable": true
   },
   "outputs": [],
   "source": [
    "\n",
    "import underworld as uw\n",
    "from underworld import function as fn\n",
    "import glucifer\n",
    "import numpy as np"
   ]
  },
  {
   "cell_type": "code",
   "execution_count": 19,
   "metadata": {
    "collapsed": true,
    "deletable": true,
    "editable": true
   },
   "outputs": [],
   "source": [
    "\n",
    "# Set simulation box size.\n",
    "boxHeight = 1.0\n",
    "boxLength = 2.*3.142\n",
    "# Set the resolution.\n",
    "res = 64"
   ]
  },
  {
   "cell_type": "code",
   "execution_count": 20,
   "metadata": {
    "collapsed": true,
    "deletable": true,
    "editable": true
   },
   "outputs": [],
   "source": [
    "mesh = uw.mesh.FeMesh_Cartesian( elementType = (\"Q1/dQ0\"), \n",
    "                                 elementRes  = (8*res, res), \n",
    "                                 minCoord    = (0.1, 0.), \n",
    "                                 maxCoord    = (boxLength, boxHeight))\n",
    "\n",
    "tWalls = mesh.specialSets[\"MaxJ_VertexSet\"]\n"
   ]
  },
  {
   "cell_type": "code",
   "execution_count": 21,
   "metadata": {
    "collapsed": false,
    "deletable": true,
    "editable": true
   },
   "outputs": [],
   "source": [
    "coordinate = fn.input()\n",
    "randomFn = 2.*fn.math.cos(coordinate[0])\n",
    "\n",
    "\n",
    "_minmax = fn.view.min_max(randomFn, fn_auxiliary=coordinate)\n",
    "dummyFn = _minmax.evaluate(tWalls)"
   ]
  },
  {
   "cell_type": "code",
   "execution_count": 22,
   "metadata": {
    "collapsed": false,
    "deletable": true,
    "editable": true
   },
   "outputs": [
    {
     "name": "stdout",
     "output_type": "stream",
     "text": [
      "1.99999933628\n",
      "6.284\n"
     ]
    }
   ],
   "source": [
    "print(_minmax.max_global())\n",
    "print(_minmax.max_global_auxiliary()[0][0])"
   ]
  },
  {
   "cell_type": "code",
   "execution_count": 24,
   "metadata": {
    "collapsed": false,
    "deletable": true,
    "editable": true
   },
   "outputs": [],
   "source": [
    "rtol = 1e-2\n",
    "\n",
    "assert np.allclose( _minmax.max_global(), 2.0, rtol=rtol ), \"Error occurred in computing global max\"\n",
    "assert np.allclose(_minmax.max_global_auxiliary()[0][0], boxLength, rtol=rtol ), \"Error occurred in auxilliary\""
   ]
  },
  {
   "cell_type": "code",
   "execution_count": null,
   "metadata": {
    "collapsed": true,
    "deletable": true,
    "editable": true
   },
   "outputs": [],
   "source": []
  }
 ],
 "metadata": {
  "kernelspec": {
   "display_name": "Python 2",
   "language": "python",
   "name": "python2"
  },
  "language_info": {
   "codemirror_mode": {
    "name": "ipython",
    "version": 2
   },
   "file_extension": ".py",
   "mimetype": "text/x-python",
   "name": "python",
   "nbconvert_exporter": "python",
   "pygments_lexer": "ipython2",
   "version": "2.7.9"
  }
 },
 "nbformat": 4,
 "nbformat_minor": 2
}
